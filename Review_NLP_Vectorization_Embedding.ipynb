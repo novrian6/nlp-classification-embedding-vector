{
  "nbformat": 4,
  "nbformat_minor": 0,
  "metadata": {
    "colab": {
      "provenance": [],
      "authorship_tag": "ABX9TyPHPtaSgxdA4leNnOhEt4Zm",
      "include_colab_link": true
    },
    "kernelspec": {
      "name": "python3",
      "display_name": "Python 3"
    },
    "language_info": {
      "name": "python"
    }
  },
  "cells": [
    {
      "cell_type": "markdown",
      "metadata": {
        "id": "view-in-github",
        "colab_type": "text"
      },
      "source": [
        "<a href=\"https://colab.research.google.com/github/novrian6/nlp-classification-embedding-vector/blob/main/Review_NLP_Vectorization_Embedding.ipynb\" target=\"_parent\"><img src=\"https://colab.research.google.com/assets/colab-badge.svg\" alt=\"Open In Colab\"/></a>"
      ]
    },
    {
      "cell_type": "code",
      "execution_count": null,
      "metadata": {
        "colab": {
          "base_uri": "https://localhost:8080/"
        },
        "id": "6lMe_h_0GNCZ",
        "outputId": "54dda448-987f-47dc-b99a-09ec1b4d2935"
      },
      "outputs": [
        {
          "output_type": "stream",
          "name": "stdout",
          "text": [
            "Epoch 1/10\n",
            "1/1 [==============================] - 1s 1s/step - loss: 0.6855 - accuracy: 0.6667\n",
            "Epoch 2/10\n",
            "1/1 [==============================] - 0s 16ms/step - loss: 0.6828 - accuracy: 0.6667\n",
            "Epoch 3/10\n",
            "1/1 [==============================] - 0s 14ms/step - loss: 0.6800 - accuracy: 0.6667\n",
            "Epoch 4/10\n",
            "1/1 [==============================] - 0s 14ms/step - loss: 0.6771 - accuracy: 0.6667\n",
            "Epoch 5/10\n",
            "1/1 [==============================] - 0s 13ms/step - loss: 0.6748 - accuracy: 0.6667\n",
            "Epoch 6/10\n",
            "1/1 [==============================] - 0s 11ms/step - loss: 0.6725 - accuracy: 0.6667\n",
            "Epoch 7/10\n",
            "1/1 [==============================] - 0s 11ms/step - loss: 0.6702 - accuracy: 0.6667\n",
            "Epoch 8/10\n",
            "1/1 [==============================] - 0s 11ms/step - loss: 0.6680 - accuracy: 0.6667\n",
            "Epoch 9/10\n",
            "1/1 [==============================] - 0s 10ms/step - loss: 0.6657 - accuracy: 0.6667\n",
            "Epoch 10/10\n",
            "1/1 [==============================] - 0s 11ms/step - loss: 0.6633 - accuracy: 0.6667\n",
            "1/1 [==============================] - 0s 159ms/step\n",
            "[[0.48965952]]\n"
          ]
        }
      ],
      "source": [
        "import tensorflow as tf\n",
        "from tensorflow.keras.layers import TextVectorization, Embedding, GlobalAveragePooling1D, Dense\n",
        "from tensorflow.keras.models import Sequential\n",
        "import numpy as np\n",
        "\n",
        "# Sample data teks\n",
        "corpus = [\n",
        "    'Ini adalah contoh kalimat pertama.',\n",
        "    'Ini adalah contoh kalimat kedua.',\n",
        "    'Dan ini adalah contoh kalimat ketiga.'\n",
        "]\n",
        "\n",
        "# Inisialisasi layer TextVectorization\n",
        "vectorizer = TextVectorization(max_tokens=1000, output_mode='int', output_sequence_length=20)\n",
        "vectorizer.adapt(corpus)\n",
        "\n",
        "# Tokenisasi teks\n",
        "vectorized_data = vectorizer(np.array(corpus))\n",
        "\n",
        "# Membuat label dummy untuk contoh\n",
        "labels = [0, 1, 0]  # Misalnya, label sentimen\n",
        "\n",
        "# Membuat model Sequential\n",
        "model = Sequential([\n",
        "    vectorizer,\n",
        "    Embedding(input_dim=len(vectorizer.get_vocabulary()), output_dim=64, mask_zero=True),\n",
        "    GlobalAveragePooling1D(),\n",
        "    Dense(16, activation='relu'),\n",
        "    Dense(1, activation='sigmoid')\n",
        "])\n",
        "\n",
        "# Kompilasi model\n",
        "model.compile(optimizer='adam', loss='binary_crossentropy', metrics=['accuracy'])\n",
        "\n",
        "# Pelatihan model dengan input dan label\n",
        "model.fit(np.array(corpus), np.array(labels), epochs=10)\n",
        "\n",
        "\n",
        "# Evaluasi model (opsional tergantung pada data dan tujuan)\n",
        "# Misalnya, jika memiliki data validasi atau testing, bisa menggunakan model.evaluate()\n",
        "\n",
        "# Prediksi dengan model\n",
        "# Misalnya, memprediksi label sentimen dari teks baru\n",
        "new_text = [\"Ini adalah teks baru untuk diprediksi.\"]\n",
        "predicted = model.predict(new_text)\n",
        "print(predicted)\n"
      ]
    },
    {
      "cell_type": "code",
      "source": [],
      "metadata": {
        "id": "RxZuCLhTGRk2"
      },
      "execution_count": null,
      "outputs": []
    },
    {
      "cell_type": "code",
      "source": [
        "import tensorflow as tf\n",
        "from tensorflow.keras.layers import TextVectorization, Embedding, GlobalAveragePooling1D, Dense\n",
        "from tensorflow.keras.models import Sequential\n",
        "import numpy as np\n",
        "\n",
        "# Sample data teks\n",
        "corpus = [\n",
        "    'Ini adalah contoh kalimat pertama.',\n",
        "    'Ini adalah contoh kalimat kedua.',\n",
        "    'Dan ini adalah contoh kalimat ketiga.'\n",
        "]"
      ],
      "metadata": {
        "id": "1sEepNW0pGCa"
      },
      "execution_count": null,
      "outputs": []
    },
    {
      "cell_type": "code",
      "source": [
        "corpus"
      ],
      "metadata": {
        "colab": {
          "base_uri": "https://localhost:8080/"
        },
        "id": "Xh0M7bJTpGZR",
        "outputId": "4d30eff5-48a1-489d-c9d7-f49322f75899"
      },
      "execution_count": null,
      "outputs": [
        {
          "output_type": "execute_result",
          "data": {
            "text/plain": [
              "['Ini adalah contoh kalimat pertama.',\n",
              " 'Ini adalah contoh kalimat kedua.',\n",
              " 'Dan ini adalah contoh kalimat ketiga.']"
            ]
          },
          "metadata": {},
          "execution_count": 2
        }
      ]
    },
    {
      "cell_type": "code",
      "source": [
        "# Inisialisasi layer TextVectorization\n",
        "vectorizer = TextVectorization(max_tokens=1000, output_mode='int', output_sequence_length=20)\n",
        "vectorizer.adapt(corpus)\n"
      ],
      "metadata": {
        "id": "N6UEV4qIpHDp"
      },
      "execution_count": null,
      "outputs": []
    },
    {
      "cell_type": "code",
      "source": [
        "vectorizer"
      ],
      "metadata": {
        "colab": {
          "base_uri": "https://localhost:8080/"
        },
        "id": "lVgeDoh7pJoB",
        "outputId": "e33ad2e4-cf8d-4e39-a853-1d371bb4bac3"
      },
      "execution_count": null,
      "outputs": [
        {
          "output_type": "execute_result",
          "data": {
            "text/plain": [
              "<keras.src.layers.preprocessing.text_vectorization.TextVectorization at 0x7de5c4216320>"
            ]
          },
          "metadata": {},
          "execution_count": 4
        }
      ]
    },
    {
      "cell_type": "code",
      "source": [
        "# Tokenisasi teks\n",
        "vectorized_data = vectorizer(np.array(corpus))"
      ],
      "metadata": {
        "id": "FnnktdcEpK27"
      },
      "execution_count": null,
      "outputs": []
    },
    {
      "cell_type": "code",
      "source": [
        "vectorized_data"
      ],
      "metadata": {
        "colab": {
          "base_uri": "https://localhost:8080/"
        },
        "id": "HQoneix3tKW8",
        "outputId": "f983321b-6cdb-44e4-d4ca-f2d71406d5b5"
      },
      "execution_count": null,
      "outputs": [
        {
          "output_type": "execute_result",
          "data": {
            "text/plain": [
              "<tf.Tensor: shape=(3, 20), dtype=int64, numpy=\n",
              "array([[3, 5, 4, 2, 6, 0, 0, 0, 0, 0, 0, 0, 0, 0, 0, 0, 0, 0, 0, 0],\n",
              "       [3, 5, 4, 2, 8, 0, 0, 0, 0, 0, 0, 0, 0, 0, 0, 0, 0, 0, 0, 0],\n",
              "       [9, 3, 5, 4, 2, 7, 0, 0, 0, 0, 0, 0, 0, 0, 0, 0, 0, 0, 0, 0]])>"
            ]
          },
          "metadata": {},
          "execution_count": 6
        }
      ]
    },
    {
      "cell_type": "code",
      "source": [
        "vectorizer.get_vocabulary()"
      ],
      "metadata": {
        "colab": {
          "base_uri": "https://localhost:8080/"
        },
        "id": "H82yW-cYtOQ9",
        "outputId": "8447ce94-e642-493a-cc45-12a3a772ddf5"
      },
      "execution_count": null,
      "outputs": [
        {
          "output_type": "execute_result",
          "data": {
            "text/plain": [
              "['',\n",
              " '[UNK]',\n",
              " 'kalimat',\n",
              " 'ini',\n",
              " 'contoh',\n",
              " 'adalah',\n",
              " 'pertama',\n",
              " 'ketiga',\n",
              " 'kedua',\n",
              " 'dan']"
            ]
          },
          "metadata": {},
          "execution_count": 7
        }
      ]
    },
    {
      "cell_type": "code",
      "source": [
        "# Membuat label dummy untuk contoh\n",
        "labels = [0, 1, 0]  # Misalnya, label sentimen\n"
      ],
      "metadata": {
        "id": "kyx2XGXOtugR"
      },
      "execution_count": null,
      "outputs": []
    },
    {
      "cell_type": "code",
      "source": [
        "\n",
        "# Membuat model Sequential\n",
        "model = Sequential([\n",
        "    vectorizer,\n",
        "    Embedding(input_dim=len(vectorizer.get_vocabulary()), output_dim=64, mask_zero=True),\n",
        "    GlobalAveragePooling1D(),\n",
        "    Dense(16, activation='relu'),\n",
        "    Dense(1, activation='sigmoid')\n",
        "])\n"
      ],
      "metadata": {
        "id": "VBp6dWdptXUM"
      },
      "execution_count": null,
      "outputs": []
    },
    {
      "cell_type": "code",
      "source": [
        "model"
      ],
      "metadata": {
        "colab": {
          "base_uri": "https://localhost:8080/"
        },
        "id": "EPcZDrqFtYuD",
        "outputId": "9412d426-a303-435c-aab4-35905e693abd"
      },
      "execution_count": null,
      "outputs": [
        {
          "output_type": "execute_result",
          "data": {
            "text/plain": [
              "<keras.src.engine.sequential.Sequential at 0x7de5b3c79870>"
            ]
          },
          "metadata": {},
          "execution_count": 17
        }
      ]
    },
    {
      "cell_type": "code",
      "source": [
        "# Kompilasi model\n",
        "model.compile(optimizer='adam', loss='binary_crossentropy', metrics=['accuracy'])\n"
      ],
      "metadata": {
        "id": "ixBULfkltkNT"
      },
      "execution_count": null,
      "outputs": []
    },
    {
      "cell_type": "code",
      "source": [
        "\n",
        "# Pelatihan model dengan input dan label\n",
        "model.fit(np.array(corpus), np.array(labels), epochs=10)"
      ],
      "metadata": {
        "colab": {
          "base_uri": "https://localhost:8080/"
        },
        "id": "SgODYNd-tnFr",
        "outputId": "356fd9e8-eb09-4ae2-c33e-789807053199"
      },
      "execution_count": null,
      "outputs": [
        {
          "output_type": "stream",
          "name": "stdout",
          "text": [
            "Epoch 1/10\n",
            "1/1 [==============================] - 1s 1s/step - loss: 0.6934 - accuracy: 0.3333\n",
            "Epoch 2/10\n",
            "1/1 [==============================] - 0s 17ms/step - loss: 0.6915 - accuracy: 0.6667\n",
            "Epoch 3/10\n",
            "1/1 [==============================] - 0s 16ms/step - loss: 0.6895 - accuracy: 1.0000\n",
            "Epoch 4/10\n",
            "1/1 [==============================] - 0s 14ms/step - loss: 0.6876 - accuracy: 1.0000\n",
            "Epoch 5/10\n",
            "1/1 [==============================] - 0s 11ms/step - loss: 0.6857 - accuracy: 0.6667\n",
            "Epoch 6/10\n",
            "1/1 [==============================] - 0s 18ms/step - loss: 0.6839 - accuracy: 0.6667\n",
            "Epoch 7/10\n",
            "1/1 [==============================] - 0s 15ms/step - loss: 0.6821 - accuracy: 0.6667\n",
            "Epoch 8/10\n",
            "1/1 [==============================] - 0s 14ms/step - loss: 0.6803 - accuracy: 0.6667\n",
            "Epoch 9/10\n",
            "1/1 [==============================] - 0s 12ms/step - loss: 0.6786 - accuracy: 0.6667\n",
            "Epoch 10/10\n",
            "1/1 [==============================] - 0s 13ms/step - loss: 0.6768 - accuracy: 0.6667\n"
          ]
        },
        {
          "output_type": "execute_result",
          "data": {
            "text/plain": [
              "<keras.src.callbacks.History at 0x7de5b3a0af80>"
            ]
          },
          "metadata": {},
          "execution_count": 19
        }
      ]
    },
    {
      "cell_type": "code",
      "source": [
        "new_text = [\"Ini adalah teks baru untuk diprediksi.\"]\n",
        "predicted = model.predict(new_text)\n",
        "print(predicted)"
      ],
      "metadata": {
        "colab": {
          "base_uri": "https://localhost:8080/"
        },
        "id": "CC8Ug5XVtp_y",
        "outputId": "1701446e-452d-4195-d1ec-5ff8bd830b13"
      },
      "execution_count": null,
      "outputs": [
        {
          "output_type": "stream",
          "name": "stdout",
          "text": [
            "1/1 [==============================] - 0s 177ms/step\n",
            "[[0.49025294]]\n"
          ]
        }
      ]
    },
    {
      "cell_type": "code",
      "source": [],
      "metadata": {
        "id": "Y-dTnQi6t1N7"
      },
      "execution_count": null,
      "outputs": []
    }
  ]
}